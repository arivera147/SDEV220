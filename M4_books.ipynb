{
 "cells": [
  {
   "cell_type": "code",
   "execution_count": 18,
   "id": "8c1108af-9cd3-4b25-9c91-8d617c30ba32",
   "metadata": {},
   "outputs": [],
   "source": [
    "#16.1\n",
    "with open('books.csv', 'w') as file:\n",
    "    file.write('author,book\\n')\n",
    "    file.write('J R R Tolkien,The Hobbit\\n')\n",
    "    file.write('Lynne Truss,\"Eats, Shoots & Leaves\"\\n')"
   ]
  },
  {
   "cell_type": "code",
   "execution_count": 26,
   "id": "d5150699-055a-4844-9cf1-71721bab3194",
   "metadata": {},
   "outputs": [
    {
     "name": "stdout",
     "output_type": "stream",
     "text": [
      "{'author': 'J R R Tolkien', 'book': 'The Hobbit'}\n",
      "{'author': 'Lynne Truss', 'book': 'Eats, Shoots & Leaves'}\n"
     ]
    }
   ],
   "source": [
    "#16.2\n",
    "import csv\n",
    "inputFile = csv.DictReader(open(\"books.csv\"))\n",
    "for row in inputFile:\n",
    "    print(row)"
   ]
  },
  {
   "cell_type": "code",
   "execution_count": 34,
   "id": "0d35dcde-4791-4967-9326-db2df8f5599b",
   "metadata": {},
   "outputs": [],
   "source": [
    "#16.3\n",
    "import csv\n",
    "books2  = [\n",
    "    ['title', 'author', 'year'],\n",
    "    ['The Weirdstone of Brisingman', 'Alan Garner', '1960'],\n",
    "    ['Perdido Street Station', 'China Mieville', '2000'],\n",
    "    ['Thud!', 'Terry Pratchett', '2005'],\n",
    "    ['The Spellman Files', 'Lisa Lutz', '2007'],\n",
    "    ['Small Gods', 'Terry Pratchett', '1992'],\n",
    "    ]\n",
    "with open ('books2.csv', 'wt') as fout:\n",
    "    csvout = csv.writer(fout)\n",
    "    csvout.writerow(books2)"
   ]
  },
  {
   "cell_type": "code",
   "execution_count": 42,
   "id": "fe59291e-0887-400f-beae-9c9e9f962d61",
   "metadata": {},
   "outputs": [
    {
     "ename": "OperationalError",
     "evalue": "table books already exists",
     "output_type": "error",
     "traceback": [
      "\u001b[1;31m---------------------------------------------------------------------------\u001b[0m",
      "\u001b[1;31mOperationalError\u001b[0m                          Traceback (most recent call last)",
      "Cell \u001b[1;32mIn[42], line 5\u001b[0m\n\u001b[0;32m      3\u001b[0m conn \u001b[38;5;241m=\u001b[39m sqlite3\u001b[38;5;241m.\u001b[39mconnect(\u001b[38;5;124m'\u001b[39m\u001b[38;5;124mbooks.db\u001b[39m\u001b[38;5;124m'\u001b[39m)\n\u001b[0;32m      4\u001b[0m curs \u001b[38;5;241m=\u001b[39m conn\u001b[38;5;241m.\u001b[39mcursor()\n\u001b[1;32m----> 5\u001b[0m curs\u001b[38;5;241m.\u001b[39mexecute(\u001b[38;5;124m'''\u001b[39m\n\u001b[0;32m      6\u001b[0m \u001b[38;5;124m    CREATE TABLE books\u001b[39m\n\u001b[0;32m      7\u001b[0m \u001b[38;5;124m    (title TEXT,\u001b[39m\n\u001b[0;32m      8\u001b[0m \u001b[38;5;124m    author TEXT,\u001b[39m\n\u001b[0;32m      9\u001b[0m \u001b[38;5;124m    year INTEGER)\u001b[39m\n\u001b[0;32m     10\u001b[0m \u001b[38;5;124m    \u001b[39m\n\u001b[0;32m     11\u001b[0m \u001b[38;5;124m'''\u001b[39m)\n\u001b[0;32m     12\u001b[0m conn\u001b[38;5;241m.\u001b[39mcommit()\n\u001b[0;32m     13\u001b[0m conn\u001b[38;5;241m.\u001b[39mclose()\n",
      "\u001b[1;31mOperationalError\u001b[0m: table books already exists"
     ]
    }
   ],
   "source": [
    "#16.4\n",
    "import sqlite3\n",
    "conn = sqlite3.connect('books.db')\n",
    "curs = conn.cursor()\n",
    "curs.execute('''\n",
    "    CREATE TABLE books\n",
    "    (title TEXT,\n",
    "    author TEXT,\n",
    "    year INTEGER)\n",
    "    \n",
    "''')\n",
    "conn.commit()\n",
    "conn.close()"
   ]
  },
  {
   "cell_type": "code",
   "execution_count": 80,
   "id": "d7492ff5-4efa-407e-b978-e644e6e1b081",
   "metadata": {},
   "outputs": [
    {
     "ename": "TypeError",
     "evalue": "'module' object is not callable",
     "output_type": "error",
     "traceback": [
      "\u001b[1;31m---------------------------------------------------------------------------\u001b[0m",
      "\u001b[1;31mTypeError\u001b[0m                                 Traceback (most recent call last)",
      "Cell \u001b[1;32mIn[80], line 3\u001b[0m\n\u001b[0;32m      1\u001b[0m \u001b[38;5;66;03m#16.8\u001b[39;00m\n\u001b[0;32m      2\u001b[0m \u001b[38;5;28;01mimport\u001b[39;00m \u001b[38;5;21;01msqlalchemy\u001b[39;00m \u001b[38;5;28;01mas\u001b[39;00m \u001b[38;5;21;01mcreate_engine\u001b[39;00m\n\u001b[1;32m----> 3\u001b[0m engine \u001b[38;5;241m=\u001b[39m create_engine(\u001b[38;5;124m'\u001b[39m\u001b[38;5;124msqlite:///:memory:\u001b[39m\u001b[38;5;124m'\u001b[39m)\n\u001b[0;32m      4\u001b[0m \u001b[38;5;28;01mfrom\u001b[39;00m \u001b[38;5;21;01msqlalcheny\u001b[39;00m\u001b[38;5;21;01m.\u001b[39;00m\u001b[38;5;21;01mext\u001b[39;00m\u001b[38;5;21;01m.\u001b[39;00m\u001b[38;5;21;01mdeclarative\u001b[39;00m \u001b[38;5;28;01mimport\u001b[39;00m declarative_base\n\u001b[0;32m      5\u001b[0m \u001b[38;5;28;01mfrom\u001b[39;00m \u001b[38;5;21;01msqlalchemy\u001b[39;00m \u001b[38;5;28;01mimport\u001b[39;00m Column, Integer, String\n",
      "\u001b[1;31mTypeError\u001b[0m: 'module' object is not callable"
     ]
    }
   ],
   "source": [
    "#16.8\n",
    "import sqlalchemy as create_engine\n",
    "engine = create_engine('sqlite:///books.db')\n",
    "from sqlalcheny.ext.declarative import declarative_base\n",
    "from sqlalchemy import Column, Integer, String\n",
    "\n",
    "Base = declarative_base()\n",
    "\n",
    "class Book(Base):\n",
    "    title = 'The Weirdstone of Brisingman'\n",
    "    author = 'Alan Garner'\n",
    "    year = 1960\n",
    "\n",
    "Base.metadata.create_all(engine)\n",
    "\n",
    "from sqlalchemy.orm import sessionmaker\n",
    "Session = sessionmaker(bind=engine)\n",
    "session = Session()\n",
    "\n",
    "data = [\n",
    "    Book(title='Perdido Street Station', author='China Mieville', year='2000')\n",
    "]\n",
    "session.add_all(data)\n",
    "session.commit()\n",
    "session.close()\n",
    "print(engine)"
   ]
  }
 ],
 "metadata": {
  "kernelspec": {
   "display_name": "Python [conda env:base] *",
   "language": "python",
   "name": "conda-base-py"
  },
  "language_info": {
   "codemirror_mode": {
    "name": "ipython",
    "version": 3
   },
   "file_extension": ".py",
   "mimetype": "text/x-python",
   "name": "python",
   "nbconvert_exporter": "python",
   "pygments_lexer": "ipython3",
   "version": "3.12.7"
  }
 },
 "nbformat": 4,
 "nbformat_minor": 5
}
