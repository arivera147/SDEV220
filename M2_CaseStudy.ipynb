{
 "cells": [
  {
   "cell_type": "code",
   "execution_count": 17,
   "id": "f234a0cc-fa75-4773-a939-4b4eeb40799e",
   "metadata": {},
   "outputs": [
    {
     "name": "stdin",
     "output_type": "stream",
     "text": [
      "Enter the student's last name [or ZZZ to quit]:  Gold\n",
      "Enter the student's first name:  Rose\n",
      "What is the student's GPA?  3.5\n"
     ]
    },
    {
     "name": "stdout",
     "output_type": "stream",
     "text": [
      "Rose Gold has made the Dean's List and the Honor Roll!\n"
     ]
    },
    {
     "name": "stdin",
     "output_type": "stream",
     "text": [
      "Enter the student's last name [or ZZZ to quit]:  Goldenrod\n",
      "Enter the student's first name:  Yellow\n",
      "What is the student's GPA?  3.8\n"
     ]
    },
    {
     "name": "stdout",
     "output_type": "stream",
     "text": [
      "Yellow Goldenrod has made the Dean's List and the Honor Roll!\n"
     ]
    },
    {
     "name": "stdin",
     "output_type": "stream",
     "text": [
      "Enter the student's last name [or ZZZ to quit]:  Silver\n",
      "Enter the student's first name:  Sterling\n",
      "What is the student's GPA?  3.25\n"
     ]
    },
    {
     "name": "stdout",
     "output_type": "stream",
     "text": [
      "Sterling Silver has made the Honor Roll!\n"
     ]
    },
    {
     "name": "stdin",
     "output_type": "stream",
     "text": [
      "Enter the student's last name [or ZZZ to quit]:  Sylv\n",
      "Enter the student's first name:  Titanium\n",
      "What is the student's GPA?  3.4\n"
     ]
    },
    {
     "name": "stdout",
     "output_type": "stream",
     "text": [
      "Titanium Sylv has made the Honor Roll!\n"
     ]
    },
    {
     "name": "stdin",
     "output_type": "stream",
     "text": [
      "Enter the student's last name [or ZZZ to quit]:  Bronze\n",
      "Enter the student's first name:  Metal\n",
      "What is the student's GPA?  3.00\n"
     ]
    },
    {
     "name": "stdout",
     "output_type": "stream",
     "text": [
      "Metal Bronze is okay, I guess.\n"
     ]
    },
    {
     "name": "stdin",
     "output_type": "stream",
     "text": [
      "Enter the student's last name [or ZZZ to quit]:  ZZZ\n"
     ]
    },
    {
     "name": "stdout",
     "output_type": "stream",
     "text": [
      "Exiting program. . .\n"
     ]
    }
   ],
   "source": [
    "\"\"\"\n",
    "Amanda Rivera\n",
    "M2_CaseStudy: if...else and while\n",
    "\n",
    "This application prompts the user from the last name of a student. It then prompts \n",
    "the user for the student's last name and GPA. If the student's GPA is at least 3.5,\n",
    "a message displays informing that the student has made the Dean's list and Honor Roll. \n",
    "If the student's GPA is at least 3.25 but less than 3.5, a message states that the \n",
    "student has made the Honor Roll. If the student's GPA is less than 3.25, then a message\n",
    "displays saying that the student is average :c\n",
    "If ZZZ is entered for the student's last name, the program will exit.\n",
    "\"\"\"\n",
    "\n",
    "while True:\n",
    "    lastName = input(\"Enter the student's last name [or ZZZ to quit]: \")\n",
    "    if lastName == \"ZZZ\":\n",
    "        print(\"Exiting program. . .\")\n",
    "        break\n",
    "    else:\n",
    "        firstName = input(\"Enter the student\\'s first name: \")\n",
    "        gpa = float(input(\"What is the student's GPA? \"))\n",
    "    if gpa >= 3.5:\n",
    "        print(firstName, lastName, \"has made the Dean's List and the Honor Roll!\")\n",
    "    elif gpa >= 3.25 and gpa < 3.5:\n",
    "        print( firstName, lastName, \"has made the Honor Roll!\")\n",
    "    else:\n",
    "        print(firstName, lastName, \"is okay, I guess.\")"
   ]
  }
 ],
 "metadata": {
  "kernelspec": {
   "display_name": "Python [conda env:base] *",
   "language": "python",
   "name": "conda-base-py"
  },
  "language_info": {
   "codemirror_mode": {
    "name": "ipython",
    "version": 3
   },
   "file_extension": ".py",
   "mimetype": "text/x-python",
   "name": "python",
   "nbconvert_exporter": "python",
   "pygments_lexer": "ipython3",
   "version": "3.12.7"
  }
 },
 "nbformat": 4,
 "nbformat_minor": 5
}
