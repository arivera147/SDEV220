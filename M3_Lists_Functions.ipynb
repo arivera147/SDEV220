{
 "cells": [
  {
   "cell_type": "code",
   "execution_count": 57,
   "id": "04de9465-1b80-4f25-9e1e-cb468f788ba5",
   "metadata": {},
   "outputs": [
    {
     "name": "stdout",
     "output_type": "stream",
     "text": [
      "The'things' BEFORE person-referring thing is capitilized: ['mozzarella', 'cinderella', 'salmonella']\n",
      "The'things' AFTER person-referring thing is capitilized: ['mozzarella', 'Cinderella', 'salmonella']\n",
      "\n",
      "The'things' BEFORE cheesey thing is capitilized: ['mozzarella', 'Cinderella', 'salmonella']\n",
      "The'things' AFTER cheesey thing is capitilized: ['MOZZARELLA', 'Cinderella', 'salmonella']\n",
      "\n",
      "The'things' BEFORE deleting the disease: ['MOZZARELLA', 'Cinderella', 'salmonella']\n",
      "The'things' AFTER deleting the disease: ['MOZZARELLA', 'Cinderella']\n",
      "\n",
      "\n",
      "['Harry', 'Ron', 'Hermione'] \n",
      "\n",
      "5\n"
     ]
    }
   ],
   "source": [
    "#7.4 \n",
    "things = [\"mozzarella\", \"cinderella\", \"salmonella\"]\n",
    "\n",
    "#7.5 In the list 'things', the only element pertaining to a person is the value \"cinderella\". After capitilizing this element, it change the \n",
    "# lowercase 'c' in cinderella to an uppercase 'C'. Other elements were not changed. \n",
    "print(\"The'things' BEFORE person-referring thing is capitilized:\", things)\n",
    "things[1] = things[1].capitalize()\n",
    "print(\"The'things' AFTER person-referring thing is capitilized:\", things)\n",
    "\n",
    "#7.6\n",
    "print(\"\\nThe'things' BEFORE cheesey thing is capitilized:\", things)\n",
    "things[0] = things[0].upper()\n",
    "print(\"The'things' AFTER cheesey thing is capitilized:\", things)\n",
    "\n",
    "#7.7\n",
    "print(\"\\nThe'things' BEFORE deleting the disease:\", things)\n",
    "things.remove(\"salmonella\")\n",
    "print(\"The'things' AFTER deleting the disease:\", things)\n",
    "\n",
    "print(\"\\n\") #To separate Ch 7 VS Ch9\n",
    "\n",
    "#9.1\n",
    "def good():\n",
    "    characters_HP = [\"Harry\", \"Ron\", \"Hermione\"]\n",
    "    return characters_HP\n",
    "    \n",
    "print(good(),\"\\n\")\n",
    "\n",
    "#9.2\n",
    "def get_odds():\n",
    "    for num in range(10):\n",
    "        if num % 2 != 0:\n",
    "            yield num #since this a generator function, we use yield instead of return\n",
    "\n",
    "count = 0\n",
    "for num in get_odds():\n",
    "    if count == 2: #we set count == 2 so that the function prints the third returned value from get_odds(). \n",
    "                    #=> when num == 0, not return; when num == 1, num is returned and count = 0; when num == 2, num not returned;\n",
    "                    #=> when num == 3, num is returned and count == 1; when num == 4, num not returned;\n",
    "                    #=> when num == 5, num is returned and count == 2 and value prints\n",
    "        print(num)\n",
    "        break\n",
    "    count += 1"
   ]
  }
 ],
 "metadata": {
  "kernelspec": {
   "display_name": "Python [conda env:base] *",
   "language": "python",
   "name": "conda-base-py"
  },
  "language_info": {
   "codemirror_mode": {
    "name": "ipython",
    "version": 3
   },
   "file_extension": ".py",
   "mimetype": "text/x-python",
   "name": "python",
   "nbconvert_exporter": "python",
   "pygments_lexer": "ipython3",
   "version": "3.12.7"
  }
 },
 "nbformat": 4,
 "nbformat_minor": 5
}
