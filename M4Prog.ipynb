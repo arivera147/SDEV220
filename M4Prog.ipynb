{
 "cells": [
  {
   "cell_type": "code",
   "execution_count": 19,
   "id": "a2b620fa-8a1d-4660-bfb8-6f83c1bdff05",
   "metadata": {},
   "outputs": [],
   "source": [
    "def hours():\n",
    "    print(\"Open 9-5 daily \")"
   ]
  },
  {
   "cell_type": "code",
   "execution_count": 21,
   "id": "c8f18ce2-63dd-4caf-bdc4-8b8b1083ec33",
   "metadata": {},
   "outputs": [
    {
     "name": "stdout",
     "output_type": "stream",
     "text": [
      "Open 9-5 daily. \n"
     ]
    }
   ],
   "source": [
    "import zoo\n",
    "zoo.hours()"
   ]
  },
  {
   "cell_type": "code",
   "execution_count": 17,
   "id": "9df75643-4145-4014-ae88-92a8dfd4ae3b",
   "metadata": {},
   "outputs": [
    {
     "name": "stdout",
     "output_type": "stream",
     "text": [
      "Open 9-5 daily. \n"
     ]
    }
   ],
   "source": [
    "import zoo as menagerie\n",
    "menagerie.hours()"
   ]
  },
  {
   "cell_type": "code",
   "execution_count": null,
   "id": "0c5089d2-c0da-41c0-bc1b-62ca59b87b1d",
   "metadata": {},
   "outputs": [],
   "source": []
  }
 ],
 "metadata": {
  "kernelspec": {
   "display_name": "Python [conda env:base] *",
   "language": "python",
   "name": "conda-base-py"
  },
  "language_info": {
   "codemirror_mode": {
    "name": "ipython",
    "version": 3
   },
   "file_extension": ".py",
   "mimetype": "text/x-python",
   "name": "python",
   "nbconvert_exporter": "python",
   "pygments_lexer": "ipython3",
   "version": "3.12.7"
  }
 },
 "nbformat": 4,
 "nbformat_minor": 5
}
