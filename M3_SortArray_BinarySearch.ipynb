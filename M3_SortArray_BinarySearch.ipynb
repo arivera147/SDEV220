{
 "cells": [
  {
   "cell_type": "code",
   "execution_count": 40,
   "id": "2bc977c4-893d-41e2-a1de-d0b66325cc1d",
   "metadata": {},
   "outputs": [
    {
     "name": "stdout",
     "output_type": "stream",
     "text": [
      "0 0 0 0 1 1 1 2 2 2 \n",
      "\n",
      "8 is not present.\n"
     ]
    }
   ],
   "source": [
    "# Function to sort an array of 0s, 1s, and 2s\n",
    "def sort012(arr):\n",
    "        count_zero = 0\n",
    "        count_one = 0\n",
    "        count_two = 0\n",
    "        \n",
    "        for num in arr: #goes through array and counts how many times 0, 1, 2 appear\n",
    "            if num == 0:\n",
    "                count_zero += 1\n",
    "            elif num == 1:\n",
    "                count_one += 1\n",
    "            else:\n",
    "                count_two += 1\n",
    "                \n",
    "        index = 0 #keeps track of position within array 'arr' while counting\n",
    "        \n",
    "        for i in range(count_zero): # goes through all the zeroes and rearranges them to the beginning of the array\n",
    "            arr[index] = 0\n",
    "            index+= 1\n",
    "            \n",
    "        for i in range(count_one): # goes through all the ones and rearranges them after all zeroes in the array\n",
    "            arr[index] = 1\n",
    "            index += 1\n",
    "            \n",
    "        for i in range (count_two): # goes through all the twos and rearranges them to the end of the array\n",
    "            arr[index] = 2\n",
    "            index += 1\n",
    "            \n",
    "arr = [2, 0, 1, 1, 2, 0, 1, 2, 0, 0]\n",
    "sort012(arr) #call function\n",
    "    \n",
    "for x in arr: # print array after it has been sorted\n",
    "    print(x, end = \" \")\n",
    "\n",
    "print(\"\\n\")\n",
    "\n",
    "#Function binary search to find the element, k, in array, arr\n",
    "def binarysearch(arr,k):\n",
    "    left, right = 0, len(arr) - 1 #will use to assign index of 'left' to beginning of array and 'right' to end of array\n",
    "    result = -1\n",
    "\n",
    "    while left <= right:\n",
    "        mid = left + ((right-left)//2) # assigns mid to the middle index of the array\n",
    "\n",
    "        if arr[mid] == k:\n",
    "            result = mid\n",
    "            right = mid - 1 #search the left half for the first occurrence\n",
    "\n",
    "        elif arr[mid] < k:\n",
    "            left = mid + 1 #will use to assign the index of search at the beginning of the array\n",
    "        else: # arr[mid] > k\n",
    "            right = mid - 1\n",
    "    return result\n",
    "\n",
    "arr = [1,2,3,4,5]\n",
    "k = 4\n",
    "#k = 8\n",
    "\n",
    "result = binarysearch(arr,k) #call binarysearch() function, and look for k\n",
    "\n",
    "if result == -1:\n",
    "    print(f\"{k} is not present.\")\n",
    "else:\n",
    "    print(f\"{k} appears at index {result}.\")"
   ]
  }
 ],
 "metadata": {
  "kernelspec": {
   "display_name": "Python [conda env:base] *",
   "language": "python",
   "name": "conda-base-py"
  },
  "language_info": {
   "codemirror_mode": {
    "name": "ipython",
    "version": 3
   },
   "file_extension": ".py",
   "mimetype": "text/x-python",
   "name": "python",
   "nbconvert_exporter": "python",
   "pygments_lexer": "ipython3",
   "version": "3.12.7"
  }
 },
 "nbformat": 4,
 "nbformat_minor": 5
}
