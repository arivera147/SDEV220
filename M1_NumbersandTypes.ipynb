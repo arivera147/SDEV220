{
 "cells": [
  {
   "cell_type": "code",
   "execution_count": 33,
   "id": "b77a107e-f5f8-4211-9561-2536bee7ef0e",
   "metadata": {},
   "outputs": [
    {
     "name": "stdout",
     "output_type": "stream",
     "text": [
      "3600\n",
      "The number of seconds in one hour is 3600\n",
      "\n",
      " 86400\n",
      "The number of seconds in one day is 86400\n",
      "\n",
      " 24.0\n",
      "\n",
      " 24\n"
     ]
    }
   ],
   "source": [
    "# 3.1 In 1 hr, there are 60 min; in 1 min, there are 60 sec. (1 hr)(60min/1hr)(60sec/1min)=3600 sec in 1 hr\n",
    "s = 60\n",
    "m = 60\n",
    "h = s*m\n",
    "print(h)\n",
    "\n",
    "# 3.2\n",
    "seconds_per_hr = s*m\n",
    "print(\"The number of seconds in one hour is\", seconds_per_hr)\n",
    "\n",
    "#3.3 The number of seconds in a day is seconds_per_hr*24 = 86400\n",
    "print(\"\\n\",seconds_per_hr*24)\n",
    "\n",
    "#3.4\n",
    "hours_per_day = 24\n",
    "seconds_per_day = (seconds_per_hr)*(hours_per_day)\n",
    "print(\"The number of seconds in one day is\", seconds_per_day)\n",
    "\n",
    "#3.5 floating-point (decimal)\n",
    "print(\"\\n\", seconds_per_day/seconds_per_hr)\n",
    "\n",
    "#3.6 integer division (truncate)\n",
    "print(\"\\n\",seconds_per_day//seconds_per_hr)\n",
    "    #This number agrees with the floating-point value from the previous question aside from the final .0"
   ]
  }
 ],
 "metadata": {
  "kernelspec": {
   "display_name": "Python [conda env:base] *",
   "language": "python",
   "name": "conda-base-py"
  },
  "language_info": {
   "codemirror_mode": {
    "name": "ipython",
    "version": 3
   },
   "file_extension": ".py",
   "mimetype": "text/x-python",
   "name": "python",
   "nbconvert_exporter": "python",
   "pygments_lexer": "ipython3",
   "version": "3.12.7"
  }
 },
 "nbformat": 4,
 "nbformat_minor": 5
}
