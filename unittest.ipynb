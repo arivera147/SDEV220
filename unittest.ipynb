{
 "cells": [
  {
   "cell_type": "code",
   "execution_count": null,
   "id": "b9abf342-c125-4eda-b58b-fa4a70b463bb",
   "metadata": {},
   "outputs": [],
   "source": [
    "#run in terminal: C:\\Users\\AmaRi\\project\n",
    "\n",
    "import unittest\n",
    "\n",
    "from my_sum import sum #my_sum is a developer-created package\n",
    "from fractions import Fraction #fractions is a part of standrard library\n",
    "\n",
    "\n",
    "class TestSum(unittest.TestCase):\n",
    "    def test_list_int(self):\n",
    "        \"\"\"\n",
    "        Test that it can sum a list of integers\n",
    "        \"\"\"\n",
    "        data = [1, 2, 3]\n",
    "        result = sum(data)\n",
    "        self.assertEqual(result, 6)\n",
    "\n",
    "    def test_list_fraction(self):\n",
    "        \"\"\"\n",
    "        Test that it can sum a list of fractions\n",
    "        \"\"\"\n",
    "        data = [Fraction(1,4), Fraction(1,4), Fraction (2,5)]\n",
    "        result = sum(data)\n",
    "        self.assertEqual(result,1)\n",
    "\n",
    "if __name__ == '__main__':\n",
    "    unittest.main()\n",
    "\n",
    "\n",
    "#NOTE: This program was created and executed through VSCode. For further details, refer to files located within the same directory, 'M5_unittest'\n",
    "#Test results:\n",
    "#This code was ran in the terminal using the command > python -m unittest test\n",
    "    #The first result seen is a F. which indicates that the two methods ran. One method passed while the other method failed.\n",
    "    #The next entry shows which method failed, which was the test_list_function method. It also displays the output message of \n",
    "    # what the method's function is. The Traceback entry in the terminal results further explain which part of the function failed.\n",
    "    #The failure occurred at the testing stage where our variable result does not equal the specified value, 1."
   ]
  },
  {
   "cell_type": "code",
   "execution_count": null,
   "id": "492ccd34-1de1-4e61-826f-640aec3404aa",
   "metadata": {},
   "outputs": [],
   "source": []
  }
 ],
 "metadata": {
  "kernelspec": {
   "display_name": "Python [conda env:base] *",
   "language": "python",
   "name": "conda-base-py"
  },
  "language_info": {
   "codemirror_mode": {
    "name": "ipython",
    "version": 3
   },
   "file_extension": ".py",
   "mimetype": "text/x-python",
   "name": "python",
   "nbconvert_exporter": "python",
   "pygments_lexer": "ipython3",
   "version": "3.12.7"
  }
 },
 "nbformat": 4,
 "nbformat_minor": 5
}
