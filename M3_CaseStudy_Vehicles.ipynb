{
 "cells": [
  {
   "cell_type": "code",
   "execution_count": 5,
   "id": "9acd8d60-d4f1-4707-b8c2-0665d8e7f28a",
   "metadata": {},
   "outputs": [
    {
     "name": "stdin",
     "output_type": "stream",
     "text": [
      "Enter year:  2020\n",
      "Enter make:  toyota\n",
      "Enter model:  corolla\n",
      "Enter number of doors:  4\n",
      "Enter type of roof:  sunroof\n"
     ]
    },
    {
     "name": "stdout",
     "output_type": "stream",
     "text": [
      "\n",
      "Car Details:\n",
      "Vehicle Type:Car\n",
      "Year: 2020\n",
      "Make: toyota\n",
      "Model: corolla\n",
      "Numbert of doors: 4\n",
      "Type of roof: sunroof\n"
     ]
    }
   ],
   "source": [
    "# Amanda Rivera\n",
    "# M3 Case Study\n",
    "# Due Date: 02/03/2025\n",
    "# Create a super class called Vehicle and a child class called Automobile. Prompt user for inputs regarding details of car. Create class object derived\n",
    "    # from Automobile class. Display uer's car details. \n",
    "\n",
    "#super class\n",
    "class Vehicle:\n",
    "    def __init__(self, vehicle_type):\n",
    "        self.vehicle_type = vehicle_type\n",
    "\n",
    "class Automobile(Vehicle): #child class to Vehicle\n",
    "    def __init__(self, vehicle_type, year, make, model, doors, roof):\n",
    "        super().__init__(vehicle_type)\n",
    "        self.year = year\n",
    "        self.make = make\n",
    "        self.model = model\n",
    "        self.doors = doors\n",
    "        self.roof = roof\n",
    "\n",
    "    #function to print vehicle details\n",
    "    def display_details(self): \n",
    "        print(f\"Vehicle Type:{self.vehicle_type}\")\n",
    "        print(f\"Year: {self.year}\")\n",
    "        print(f\"Make: {self.make}\")\n",
    "        print(f\"Model: {self.model}\")\n",
    "        print(f\"Numbert of doors: {self.doors}\")\n",
    "        print(f\"Type of roof: {self.roof}\")\n",
    "        \n",
    "#Main Function\n",
    "def main():\n",
    "    year = input(\"Enter year: \") #Prompt user for year\n",
    "    make = input(\"Enter make: \") #Prompt user for make\n",
    "    model = input(\"Enter model: \") #Prompt user for model\n",
    "    doors = input(\"Enter number of doors (2 or 4): \") #Prompt user for number of doors\n",
    "    roof = input(\"Enter type of roof (solid or sun roof): \")     #Prompt user for type of roof\n",
    "    carObj = Automobile(\"Car\", year, make, model, doors, roof) #create class object from Automobile() class to assign and store user's car details\n",
    "\n",
    "    print(\"\\nCar Details:\")\n",
    "    carObj.display_details() #Actually print user's car details\n",
    "\n",
    "#Call main function\n",
    "if __name__ == \"__main__\":\n",
    "    main()"
   ]
  }
 ],
 "metadata": {
  "kernelspec": {
   "display_name": "Python [conda env:base] *",
   "language": "python",
   "name": "conda-base-py"
  },
  "language_info": {
   "codemirror_mode": {
    "name": "ipython",
    "version": 3
   },
   "file_extension": ".py",
   "mimetype": "text/x-python",
   "name": "python",
   "nbconvert_exporter": "python",
   "pygments_lexer": "ipython3",
   "version": "3.12.7"
  }
 },
 "nbformat": 4,
 "nbformat_minor": 5
}
