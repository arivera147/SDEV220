{
 "cells": [
  {
   "cell_type": "code",
   "execution_count": 11,
   "id": "02f04f09-6e8f-46ea-863c-5d727d69d5d2",
   "metadata": {},
   "outputs": [
    {
     "name": "stdout",
     "output_type": "stream",
     "text": [
      "2025-02-21 00:00:00\n"
     ]
    }
   ],
   "source": [
    "#13.1\n",
    "from datetime import datetime, timedelta\n",
    "\n",
    "current_date = datetime.now().strftime('%Y-%m-%d')\n",
    "with open('today.txt', 'w') as file:\n",
    "    file.write(current_date)\n",
    "\n",
    "#13.2\n",
    "with open('today.txt', 'r') as file:\n",
    "    today_string = file.read()\n",
    "\n",
    "#13.3\n",
    "parsed_date = datetime.strptime(today_string, '%Y-%m-%d')\n",
    "print(parsed_date)"
   ]
  },
  {
   "cell_type": "code",
   "execution_count": 41,
   "id": "b6612f7f-4cf1-4825-90bf-84df349ffa7c",
   "metadata": {},
   "outputs": [
    {
     "name": "stdout",
     "output_type": "stream",
     "text": [
      "Today's date and time is 2025-02-21 16:02:38.233589\n",
      "Exiting subprocess# 1 . . .\n",
      "Today's date and time is 2025-02-21 16:02:38.349765\n",
      "Exiting subprocess# 2 . . .\n",
      "Today's date and time is 2025-02-21 16:02:39.069168\n",
      "Exiting subprocess# 3 . . .\n",
      "Completed\n"
     ]
    }
   ],
   "source": [
    "#15.1\n",
    "import multiprocessing\n",
    "from datetime import datetime\n",
    "import time\n",
    "import random\n",
    "\n",
    "\n",
    "def print_time():\n",
    "    now = datetime.now()\n",
    "    print(\"Today's date and time is {}\".format(now))\n",
    "    time.sleep(random.random())\n",
    "\n",
    "\n",
    "if __name__ == '__main__':\n",
    "    for i in range(3):\n",
    "        proc = multiprocessing.Process(target=print_time())\n",
    "        proc.start()\n",
    "        proc.join()\n",
    "        print('Exiting subprocess #', i+1, '. . .')\n",
    "\n",
    "    print('Completed')"
   ]
  },
  {
   "cell_type": "code",
   "execution_count": null,
   "id": "2bbf55e9-9e44-40c9-b706-e24085951822",
   "metadata": {},
   "outputs": [],
   "source": []
  }
 ],
 "metadata": {
  "kernelspec": {
   "display_name": "Python [conda env:base] *",
   "language": "python",
   "name": "conda-base-py"
  },
  "language_info": {
   "codemirror_mode": {
    "name": "ipython",
    "version": 3
   },
   "file_extension": ".py",
   "mimetype": "text/x-python",
   "name": "python",
   "nbconvert_exporter": "python",
   "pygments_lexer": "ipython3",
   "version": "3.12.7"
  }
 },
 "nbformat": 4,
 "nbformat_minor": 5
}
